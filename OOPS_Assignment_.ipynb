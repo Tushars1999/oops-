{
  "nbformat": 4,
  "nbformat_minor": 0,
  "metadata": {
    "colab": {
      "provenance": []
    },
    "kernelspec": {
      "name": "python3",
      "display_name": "Python 3"
    },
    "language_info": {
      "name": "python"
    }
  },
  "cells": [
    {
      "cell_type": "markdown",
      "source": [
        "## **OOPs Questions**\n",
        "\n"
      ],
      "metadata": {
        "id": "FQoK6GjV9cJe"
      }
    },
    {
      "cell_type": "code",
      "source": [
        "1.What is Object-Oriented Programming (OOP)?\n",
        "OOP is a programming paradigm based on the concept of \"objects\", which contain data and methods. It promotes code reusability, modularity, and abstraction.\n",
        "\n",
        "2.What is a class in OOP?\n",
        "A class is a blueprint for creating objects. It defines properties (attributes) and behaviors (methods).\n",
        "\n",
        "3.What is an object in OOP?\n",
        "An object is an instance of a class. It contains data and can perform operations defined in the class.\n",
        "\n",
        "4. What is the difference between abstraction and encapsulation?\n",
        "\n",
        "Abstraction hides implementation details and shows only essential features.\n",
        "\n",
        "Encapsulation wraps data and methods into a single unit and restricts direct access to it.\n",
        "\n",
        "5. What are dunder methods in Python?\n",
        "Dunder (double underscore) methods like __init__, __str__, and __len__ are special methods with double underscores used to define behavior for built-in functions and operators.\n",
        "\n",
        "6.Explain the concept of inheritance in OOP.\n",
        "Inheritance allows a class (child) to inherit attributes and methods from another class (parent), promoting code reuse.\n",
        "\n",
        "7. What is polymorphism in OOP?\n",
        "Polymorphism allows objects of different classes to be treated as objects of a common superclass, typically through method overriding or overloading.\n",
        "\n",
        "8. How is encapsulation achieved in Python?\n",
        "By using private variables (_var or __var) and providing getter and setter methods to control access.\n",
        "\n",
        "9. What is a constructor in Python?\n",
        "A constructor is a special method __init__() that gets called automatically when an object is created.\n",
        "\n",
        "10. What are class and static methods in Python?\n",
        "\n",
        "Class methods use @classmethod and receive cls as the first parameter.\n",
        "\n",
        "Static methods use @staticmethod and do not take self or cls.\n",
        "\n",
        "11. What is method overloading in Python?\n",
        "Python does not support true method overloading. However, default parameters or *args/**kwargs can simulate it.\n",
        "\n",
        "12. What is method overriding in OOP?\n",
        "Overriding is when a child class provides a specific implementation of a method already defined in its parent class.\n",
        "\n",
        "13. What is a property decorator in Python?\n",
        "@property is used to create getter methods, making method calls behave like attributes.\n",
        "\n",
        "14. Why is polymorphism important in OOP?\n",
        "It allows flexibility and scalability in code by using a common interface for multiple data types or classes.\n",
        "\n",
        "15. What is an abstract class in Python?\n",
        "An abstract class contains one or more abstract methods and cannot be instantiated. Use the abc module to define.\n",
        "\n",
        "16. What are the advantages of OOP?\n",
        "\n",
        "Modularity\n",
        "\n",
        "Reusability\n",
        "\n",
        "Scalability\n",
        "\n",
        "Maintainability\n",
        "\n",
        "Abstraction\n",
        "\n",
        "17. What is the difference between a class variable and an instance variable?\n",
        "\n",
        "Class variable: shared across all instances.\n",
        "\n",
        "Instance variable: unique to each object.\n",
        "\n",
        "18. What is multiple inheritance in Python?\n",
        "A class can inherit from more than one base class, gaining properties and behaviors from all.\n",
        "\n",
        "19. Explain the purpose of __str__ and __repr__ methods in Python.\n",
        "\n",
        "__str__: returns a readable string for end users.\n",
        "\n",
        "__repr__: returns an unambiguous string for developers.\n",
        "\n",
        "20.What is the significance of the super() function in Python?\n",
        "super() is used to call methods of the parent class, often used in constructors.\n",
        "\n",
        "21. What is the significance of the __del__ method in Python?\n",
        "It is a destructor method that is called when an object is about to be destroyed.\n",
        "\n",
        "22. What is the difference between @staticmethod and @classmethod in Python?\n",
        "\n",
        "@staticmethod: no access to class or instance.\n",
        "\n",
        "@classmethod: can modify class state via cls.\n",
        "\n",
        "23. How does polymorphism work in Python with inheritance?\n",
        "Child classes override parent methods; function calls behave differently based on the object’s actual class.\n",
        "\n",
        "24. What is method chaining in Python OOP?\n",
        "It means calling multiple methods on the same object in a single statement by returning self from each method.\n",
        "\n",
        "25. What is the purpose of the __call__ method in Python?\n",
        "Allows an instance to be called like a function."
      ],
      "metadata": {
        "id": "Ucrz2T4v-BzV"
      },
      "execution_count": null,
      "outputs": []
    },
    {
      "cell_type": "markdown",
      "source": [
        "# **Practical Questions**"
      ],
      "metadata": {
        "id": "yRL15snkCevU"
      }
    },
    {
      "cell_type": "code",
      "execution_count": null,
      "metadata": {
        "colab": {
          "base_uri": "https://localhost:8080/"
        },
        "id": "4xga7bZI9VUC",
        "outputId": "f47d76e7-7112-467a-8158-4e86f616d947"
      },
      "outputs": [
        {
          "output_type": "stream",
          "name": "stdout",
          "text": [
            "bark\n",
            "generic animal sound\n"
          ]
        }
      ],
      "source": [
        "# 1. Create a parent class Animal with a method speak() that prints a generic message. Create a child class Dog that overrides the speak() method to print \"Bark!\".\n",
        "\n",
        "class Animal:\n",
        "    def speak(self):\n",
        "        print(\"generic animal sound\")\n",
        "\n",
        "class dog(Animal):\n",
        "    def speak(self):\n",
        "        print(\"bark\")\n",
        "        super().speak()\n",
        "\n",
        "d = dog()\n",
        "d.speak()\n"
      ]
    },
    {
      "cell_type": "code",
      "source": [
        "# Write a program to create an abstract class Shape with a method area(). Derive classes Circle and Rectangle from it and implement the area() method in both\n",
        "from abc import ABC, abstractmethod\n",
        "import math\n",
        "\n",
        "\n",
        "class shape(ABC):\n",
        "    @abstractmethod\n",
        "    def area(self):\n",
        "     pass\n",
        "\n",
        "class Circle(shape):\n",
        "  def __init__(self,radius):\n",
        "      self.radius = radius\n",
        "\n",
        "  def area(self):\n",
        "       return math.pi * self.radius **2\n",
        "\n",
        "\n",
        "class Rectangle(shape):\n",
        "  def __init__(self,length,width):\n",
        "      self.length = length\n",
        "      self.width = width\n",
        "\n",
        "  def area(self):\n",
        "    return self.length * self.width\n",
        "    self.length = length\n",
        "    self.width = width\n",
        "\n",
        "    def area(self):\n",
        "        return self.length * self.width\n",
        "\n",
        "\n",
        "circle = Circle(5)\n",
        "rectangle = Rectangle(4,6)\n",
        "\n",
        "print(\"Area of Circle:\", circle.area())\n",
        "print(\"Area of Rectangle:\", rectangle.area())\n",
        "\n",
        "\n",
        "\n",
        "\n"
      ],
      "metadata": {
        "colab": {
          "base_uri": "https://localhost:8080/"
        },
        "id": "R-QflOTD9mlS",
        "outputId": "4da3ae25-f2fc-4090-a710-b5182ba51482"
      },
      "execution_count": null,
      "outputs": [
        {
          "output_type": "stream",
          "name": "stdout",
          "text": [
            "Area of Circle: 78.53981633974483\n",
            "Area of Rectangle: 24\n"
          ]
        }
      ]
    },
    {
      "cell_type": "code",
      "source": [
        "# 3. Implement a multi-level inheritance scenario where a class Vehicle has an attribute type. Derive a class Car and further derive a class ElectricCar that adds a battery attribute.\n",
        "\n",
        "class Vehicle:\n",
        "    def __init__(self, vehicle_type):\n",
        "        self.vehicle_type = vehicle_type\n",
        "\n",
        "    def display_type(self):\n",
        "        print(f\"Vehicle Type: {self.vehicle_type}\")\n",
        "\n",
        "class Car(Vehicle):\n",
        "    def __init__(self, vehicle_type, brand):\n",
        "        super().__init__(vehicle_type)\n",
        "        self.brand = brand\n",
        "\n",
        "    def display_brand(self):\n",
        "        print(f\"Car Brand: {self.brand}\")\n",
        "\n",
        "class ElectricCar(Car):\n",
        "    def __init__(self, vehicle_type, brand, battery_capacity):\n",
        "        super().__init__(vehicle_type, brand)\n",
        "        self.battery_capacity = battery_capacity\n",
        "\n",
        "    def display_battery(self):\n",
        "        print(f\"Battery Capacity: {self.battery_capacity} kWh\")\n",
        "\n",
        "\n",
        "e_car = ElectricCar(\"Four Wheeler\", \"Tesla\", 75)\n",
        "\n",
        "e_car.display_type()\n",
        "e_car.display_brand()\n",
        "e_car.display_battery()\n"
      ],
      "metadata": {
        "colab": {
          "base_uri": "https://localhost:8080/"
        },
        "id": "XX-BXraKNo9i",
        "outputId": "7a1d9bc8-0838-4e64-8e1c-a8828ac43c16"
      },
      "execution_count": null,
      "outputs": [
        {
          "output_type": "stream",
          "name": "stdout",
          "text": [
            "Vehicle Type: Four Wheeler\n",
            "Car Brand: Tesla\n",
            "Battery Capacity: 75 kWh\n"
          ]
        }
      ]
    },
    {
      "cell_type": "code",
      "source": [
        "# 4. Demonstrate polymorphism by creating a base class Bird with a method fly(). Create two derived classes Sparrow and Penguin that override the fly() method.\n",
        "\n",
        "\n",
        "class Bird:\n",
        "    def fly(self):\n",
        "        print(\"Some birds can fly.\")\n",
        "\n",
        "class Sparrow(Bird):\n",
        "    def fly(self):\n",
        "        print(\"Sparrow flies high in the sky.\")\n",
        "\n",
        "\n",
        "class Penguin(Bird):\n",
        "    def fly(self):\n",
        "        print(\"Penguins can't fly, but they swim well.\")\n",
        "\n",
        "def bird_flight(bird):\n",
        "    bird.fly()\n",
        "\n",
        "\n",
        "sparrow = Sparrow()\n",
        "penguin = Penguin()\n",
        "\n",
        "\n",
        "bird_flight(sparrow)\n",
        "bird_flight(penguin)\n"
      ],
      "metadata": {
        "colab": {
          "base_uri": "https://localhost:8080/"
        },
        "id": "gBdTvlwxSDj3",
        "outputId": "fb4b83a7-bf7b-4fe1-b467-c431a6931e64"
      },
      "execution_count": null,
      "outputs": [
        {
          "output_type": "stream",
          "name": "stdout",
          "text": [
            "Sparrow flies high in the sky.\n",
            "Penguins can't fly, but they swim well.\n"
          ]
        }
      ]
    },
    {
      "cell_type": "code",
      "source": [
        "# 5. Write a program to demonstrate encapsulation by creating a class BankAccount with private attributes balance and methods to deposit, withdraw, and check balance.\n",
        "\n",
        "class BankAccount:\n",
        "    def __init__(self, initial_balance=0):\n",
        "        # Private attribute\n",
        "        self.__balance = initial_balance\n",
        "\n",
        "\n",
        "    def deposit(self, amount):\n",
        "        if amount > 0:\n",
        "            self.__balance += amount\n",
        "            print(f\"Deposited: ₹{amount}\")\n",
        "        else:\n",
        "            print(\"Invalid deposit amount.\")\n",
        "\n",
        "\n",
        "    def withdraw(self, amount):\n",
        "        if 0 < amount <= self.__balance:\n",
        "            self.__balance -= amount\n",
        "            print(f\"Withdrew: ₹{amount}\")\n",
        "        else:\n",
        "            print(\"Insufficient balance or invalid amount.\")\n",
        "\n",
        "    def check_balance(self):\n",
        "        print(f\"Current Balance: ₹{self.__balance}\")\n",
        "\n",
        "account = BankAccount(1000)\n",
        "account.check_balance()\n",
        "account.deposit(500)\n",
        "account.withdraw(300)\n",
        "account.check_balance()\n",
        "\n",
        "\n"
      ],
      "metadata": {
        "id": "yQUXTQVNUnW9",
        "colab": {
          "base_uri": "https://localhost:8080/"
        },
        "outputId": "6f7d2a4b-23a8-4a63-b769-1fcaba7a7bf1"
      },
      "execution_count": 1,
      "outputs": [
        {
          "output_type": "stream",
          "name": "stdout",
          "text": [
            "Current Balance: ₹1000\n",
            "Deposited: ₹500\n",
            "Withdrew: ₹300\n",
            "Current Balance: ₹1200\n"
          ]
        }
      ]
    },
    {
      "cell_type": "code",
      "source": [
        "#6. Demonstrate runtime polymorphism using a method play() in a base class Instrument. Derive classes Guitar and Piano that implement their own version of play().\n",
        "\n",
        "class Instrument:\n",
        "    def play(self):\n",
        "        print(\"Playing an instrument...\")\n",
        "\n",
        "class Guitar(Instrument):\n",
        "    def play(self):\n",
        "        print(\"Strumming the guitar...\")\n",
        "\n",
        "class Piano(Instrument):\n",
        "    def play(self):\n",
        "        print(\"Playing the piano keys...\")\n",
        "\n",
        "\n",
        "def perform(instrument):\n",
        "    instrument.play()\n",
        "\n",
        "\n",
        "g = Guitar()\n",
        "p = Piano()\n",
        "\n",
        "perform(g)\n",
        "perform(p)\n",
        "\n"
      ],
      "metadata": {
        "colab": {
          "base_uri": "https://localhost:8080/"
        },
        "id": "UN3p3LiKQTau",
        "outputId": "658b786c-d6bd-4b10-addf-7aa0d8235088"
      },
      "execution_count": 2,
      "outputs": [
        {
          "output_type": "stream",
          "name": "stdout",
          "text": [
            "Strumming the guitar...\n",
            "Playing the piano keys...\n"
          ]
        }
      ]
    },
    {
      "cell_type": "code",
      "source": [
        "#7. Create a class MathOperations with a class method add_numbers() to add two numbers and a static method subtract_numbers() to subtract two numbers.\n",
        "\n",
        "\n",
        "class MathOperations:\n",
        "    @classmethod\n",
        "    def add_numbers(cls, a, b):\n",
        "        return a + b\n",
        "\n",
        "    @staticmethod\n",
        "    def subtract_numbers(a, b):\n",
        "        return a - b\n",
        "\n",
        "\n",
        "num1 = float(input(\"Enter first number: \"))\n",
        "num2 = float(input(\"Enter second number: \"))\n",
        "\n",
        "\n",
        "sum_result = MathOperations.add_numbers(num1, num2)\n",
        "print(f\"Sum: {sum_result}\")\n",
        "\n",
        "\n",
        "diff_result = MathOperations.subtract_numbers(num1, num2)\n",
        "print(f\"Difference: {diff_result}\")\n"
      ],
      "metadata": {
        "colab": {
          "base_uri": "https://localhost:8080/"
        },
        "id": "4GEbXofZQ89I",
        "outputId": "efbde869-1393-4622-f581-85c4c54ff148"
      },
      "execution_count": 3,
      "outputs": [
        {
          "output_type": "stream",
          "name": "stdout",
          "text": [
            "Enter first number: 25\n",
            "Enter second number: 30\n",
            "Sum: 55.0\n",
            "Difference: -5.0\n"
          ]
        }
      ]
    },
    {
      "cell_type": "code",
      "source": [
        "#8.  Implement a class Person with a class method to count the total number of persons created\n",
        "\n",
        "class Person:\n",
        "    count = 0\n",
        "\n",
        "    def __init__(self, name):\n",
        "        self.name = name\n",
        "        Person.count += 1\n",
        "\n",
        "    @classmethod\n",
        "    def get_person_count(cls):\n",
        "        return cls.count\n",
        "\n",
        "p1 = Person(\"Alice\")\n",
        "p2 = Person(\"Bob\")\n",
        "p3 = Person(\"Charlie\")\n",
        "\n",
        "print(f\"Total persons created: {Person.get_person_count()}\")\n"
      ],
      "metadata": {
        "colab": {
          "base_uri": "https://localhost:8080/"
        },
        "id": "pEKkRlxhRW5p",
        "outputId": "a6d3a8c7-c407-4bed-91c4-73510d6e5913"
      },
      "execution_count": 4,
      "outputs": [
        {
          "output_type": "stream",
          "name": "stdout",
          "text": [
            "Total persons created: 3\n"
          ]
        }
      ]
    },
    {
      "cell_type": "code",
      "source": [
        "#9.  Write a class Fraction with attributes numerator and denominator. Override the str method to display the fraction as \"numerator/denominator\".\n",
        "\n",
        "\n",
        "class Fraction:\n",
        "    def __init__(self, numerator, denominator):\n",
        "        self.numerator = numerator\n",
        "        self.denominator = denominator\n",
        "\n",
        "    def __str__(self):\n",
        "        return f\"{self.numerator}/{self.denominator}\"\n",
        "\n",
        "\n",
        "f1 = Fraction(3, 4)\n",
        "f2 = Fraction(5, 8)\n",
        "\n",
        "print(f\"Fraction 1: {f1}\")\n",
        "print(f\"Fraction 2: {f2}\")\n"
      ],
      "metadata": {
        "colab": {
          "base_uri": "https://localhost:8080/"
        },
        "id": "ymeIWT7pRo_i",
        "outputId": "f3d2321f-2389-49ba-a11c-89cf629c46bb"
      },
      "execution_count": 5,
      "outputs": [
        {
          "output_type": "stream",
          "name": "stdout",
          "text": [
            "Fraction 1: 3/4\n",
            "Fraction 2: 5/8\n"
          ]
        }
      ]
    },
    {
      "cell_type": "code",
      "source": [
        "# 10. Demonstrate operator overloading by creating a class Vector and overriding the add method to add two vectors\n",
        "\n",
        "class Vector:\n",
        "    def __init__(self, x, y):\n",
        "        self.x = x\n",
        "        self.y = y\n",
        "\n",
        "    def __add__(self, other):\n",
        "        return Vector(self.x + other.x, self.y + other.y)\n",
        "\n",
        "    def __str__(self):\n",
        "        return f\"Vector({self.x}, {self.y})\"\n",
        "\n",
        "\n",
        "v1 = Vector(2, 3)\n",
        "v2 = Vector(4, 5)\n",
        "v3 = v1 + v2\n",
        "\n",
        "print(f\"v1: {v1}\")\n",
        "print(f\"v2: {v2}\")\n",
        "print(f\"v1 + v2 = {v3}\")\n",
        "\n"
      ],
      "metadata": {
        "colab": {
          "base_uri": "https://localhost:8080/"
        },
        "id": "JEzhvEIGR4_i",
        "outputId": "39086224-e904-4dbd-9bb6-b5ad0bfc92a6"
      },
      "execution_count": 6,
      "outputs": [
        {
          "output_type": "stream",
          "name": "stdout",
          "text": [
            "v1: Vector(2, 3)\n",
            "v2: Vector(4, 5)\n",
            "v1 + v2 = Vector(6, 8)\n"
          ]
        }
      ]
    },
    {
      "cell_type": "code",
      "source": [
        "#11. . Create a class Person with attributes name and age. Add a method greet() that prints \"Hello, my name is {name} and I am {age} years old.\"\n",
        "\n",
        "\n",
        "class Person:\n",
        "    def __init__(self, name, age):\n",
        "        self.name = name\n",
        "        self.age = age\n",
        "\n",
        "    def greet(self):\n",
        "        print(f\"Hello, my name is {self.name} and I am {self.age} years old.\")\n",
        "\n",
        "p1 = Person(\"Alice\", 25)\n",
        "p1.greet()\n",
        "\n",
        "p2 = Person(\"Bob\", 30)\n",
        "p2.greet()\n",
        "\n"
      ],
      "metadata": {
        "colab": {
          "base_uri": "https://localhost:8080/"
        },
        "id": "IoI2mKt3SIAO",
        "outputId": "bee6d24b-715a-4df0-9f4e-a8ccf84eff2c"
      },
      "execution_count": 7,
      "outputs": [
        {
          "output_type": "stream",
          "name": "stdout",
          "text": [
            "Hello, my name is Alice and I am 25 years old.\n",
            "Hello, my name is Bob and I am 30 years old.\n"
          ]
        }
      ]
    },
    {
      "cell_type": "code",
      "source": [
        "# 12.  Implement a class Student with attributes name and grades. Create a method average_grade() to compute the average of the grades.\n",
        "\n",
        "class Student:\n",
        "    def __init__(self, name, grades):\n",
        "        self.name = name\n",
        "        self.grades = grades\n",
        "\n",
        "\n",
        "    def average_grade(self):\n",
        "        if len(self.grades) == 0:\n",
        "            return 0\n",
        "        return sum(self.grades) / len(self.grades)\n",
        "\n",
        "\n",
        "s1 = Student(\"Alice\", [85, 90, 78, 92])\n",
        "s2 = Student(\"Bob\", [70, 75, 80])\n",
        "\n",
        "print(f\"{s1.name}'s average grade: {s1.average_grade()}\")\n",
        "print(f\"{s2.name}'s average grade: {s2.average_grade()}\")\n"
      ],
      "metadata": {
        "colab": {
          "base_uri": "https://localhost:8080/"
        },
        "id": "nKcXjyuQSZ_I",
        "outputId": "58583a8d-b6a2-4d79-f4c1-b9b61a9ec0fa"
      },
      "execution_count": 8,
      "outputs": [
        {
          "output_type": "stream",
          "name": "stdout",
          "text": [
            "Alice's average grade: 86.25\n",
            "Bob's average grade: 75.0\n"
          ]
        }
      ]
    },
    {
      "cell_type": "code",
      "source": [
        "#13.  Create a class Rectangle with methods set_dimensions() to set the dimensions and area() to calculate the area.\n",
        "\n",
        "class Rectangle:\n",
        "    def __init__(self):\n",
        "        self.length = 0\n",
        "        self.width = 0\n",
        "\n",
        "    def set_dimensions(self, length, width):\n",
        "        self.length = length\n",
        "        self.width = width\n",
        "\n",
        "    def area(self):\n",
        "        return self.length * self.width\n",
        "\n",
        "\n",
        "r1 = Rectangle()\n",
        "r1.set_dimensions(5, 3)\n",
        "print(f\"Area of the rectangle: {r1.area()}\")\n",
        "\n"
      ],
      "metadata": {
        "colab": {
          "base_uri": "https://localhost:8080/"
        },
        "id": "tntLdAzOSrvi",
        "outputId": "50de6658-013c-4aea-c6ed-a145ccb8dffd"
      },
      "execution_count": 9,
      "outputs": [
        {
          "output_type": "stream",
          "name": "stdout",
          "text": [
            "Area of the rectangle: 15\n"
          ]
        }
      ]
    },
    {
      "cell_type": "code",
      "source": [
        "#14. . Create a class Employee with a method calculate_salary() that computes the salary based on hours worked and hourly rate. Create a derived class Manager that adds a bonus to the salary\n",
        "\n",
        "\n",
        "class Employee:\n",
        "    def __init__(self, name, hours_worked, hourly_rate):\n",
        "        self.name = name\n",
        "        self.hours_worked = hours_worked\n",
        "        self.hourly_rate = hourly_rate\n",
        "\n",
        "    def calculate_salary(self):\n",
        "        return self.hours_worked * self.hourly_rate\n",
        "\n",
        "\n",
        "class Manager(Employee):\n",
        "    def __init__(self, name, hours_worked, hourly_rate, bonus):\n",
        "        super().__init__(name, hours_worked, hourly_rate)\n",
        "        self.bonus = bonus\n",
        "\n",
        "    def calculate_salary(self):\n",
        "        base_salary = super().calculate_salary()\n",
        "        return base_salary + self.bonus\n",
        "\n",
        "\n",
        "e1 = Employee(\"Alice\", 40, 200)\n",
        "print(f\"{e1.name}'s Salary: ₹{e1.calculate_salary()}\")\n",
        "\n",
        "m1 = Manager(\"Bob\", 40, 200, 5000)\n",
        "print(f\"{m1.name}'s Salary with Bonus: ₹{m1.calculate_salary()}\")\n"
      ],
      "metadata": {
        "colab": {
          "base_uri": "https://localhost:8080/"
        },
        "id": "kblOslYXS-Mm",
        "outputId": "4a1faf58-3b5d-46f6-9af7-c0887c7e06ca"
      },
      "execution_count": 10,
      "outputs": [
        {
          "output_type": "stream",
          "name": "stdout",
          "text": [
            "Alice's Salary: ₹8000\n",
            "Bob's Salary with Bonus: ₹13000\n"
          ]
        }
      ]
    },
    {
      "cell_type": "code",
      "source": [
        "#15. Create a class Product with attributes name, price, and quantity. Implement a method total_price() that calculates the total price of the product.\n",
        "\n",
        "\n",
        "\n",
        "class Product:\n",
        "    def __init__(self, name, price, quantity):\n",
        "        self.name = name\n",
        "        self.price = price\n",
        "        self.quantity = quantity\n",
        "\n",
        "    def total_price(self):\n",
        "        return self.price * self.quantity\n",
        "\n",
        "\n",
        "p1 = Product(\"Laptop\", 50000, 2)\n",
        "p2 = Product(\"Mouse\", 800, 5)\n",
        "\n",
        "print(f\"Total price for {p1.name}: ₹{p1.total_price()}\")\n",
        "print(f\"Total price for {p2.name}: ₹{p2.total_price()}\")\n",
        "\n"
      ],
      "metadata": {
        "colab": {
          "base_uri": "https://localhost:8080/"
        },
        "id": "8rZdif31TgcV",
        "outputId": "08a23ceb-c6b5-4e79-ca1e-ce54ee8ee8e4"
      },
      "execution_count": 11,
      "outputs": [
        {
          "output_type": "stream",
          "name": "stdout",
          "text": [
            "Total price for Laptop: ₹100000\n",
            "Total price for Mouse: ₹4000\n"
          ]
        }
      ]
    },
    {
      "cell_type": "code",
      "source": [
        "# 16. Create a class Animal with an abstract method sound(). Create two derived classes Cow and Sheep that implement the sound() method.\n",
        "\n",
        "from abc import ABC, abstractmethod\n",
        "\n",
        "class Animal(ABC):\n",
        "    @abstractmethod\n",
        "    def sound(self):\n",
        "        pass\n",
        "\n",
        "class Cow(Animal):\n",
        "    def sound(self):\n",
        "        return \"Moo\"\n",
        "\n",
        "\n",
        "class Sheep(Animal):\n",
        "    def sound(self):\n",
        "        return \"Baa\"\n",
        "\n",
        "cow = Cow()\n",
        "sheep = Sheep()\n",
        "\n",
        "print(f\"Cow says: {cow.sound()}\")\n",
        "print(f\"Sheep says: {sheep.sound()}\")\n"
      ],
      "metadata": {
        "colab": {
          "base_uri": "https://localhost:8080/"
        },
        "id": "6qu21APPTu9z",
        "outputId": "aac9b27f-dc9f-422a-af48-9bb9b7fc4161"
      },
      "execution_count": 12,
      "outputs": [
        {
          "output_type": "stream",
          "name": "stdout",
          "text": [
            "Cow says: Moo\n",
            "Sheep says: Baa\n"
          ]
        }
      ]
    },
    {
      "cell_type": "code",
      "source": [
        "#17.  Create a class Book with attributes title, author, and year_published. Add a method get_book_info() that returns a formatted string with the book's details\n",
        "\n",
        "class Book:\n",
        "    def __init__(self, title, author, year_published):\n",
        "        self.title = title\n",
        "        self.author = author\n",
        "        self.year_published = year_published\n",
        "\n",
        "    def get_book_info(self):\n",
        "        return f\"'{self.title}' by {self.author} (Published in {self.year_published})\"\n",
        "\n",
        "book1 = Book(\"To Kill a Mockingbird\", \"Harper Lee\", 1960)\n",
        "book2 = Book(\"1984\", \"George Orwell\", 1949)\n",
        "\n",
        "print(book1.get_book_info())\n",
        "print(book2.get_book_info())\n"
      ],
      "metadata": {
        "colab": {
          "base_uri": "https://localhost:8080/"
        },
        "id": "vZlO7M6mUMJN",
        "outputId": "438c11d4-de28-4edc-855f-e6538a69c361"
      },
      "execution_count": 13,
      "outputs": [
        {
          "output_type": "stream",
          "name": "stdout",
          "text": [
            "'To Kill a Mockingbird' by Harper Lee (Published in 1960)\n",
            "'1984' by George Orwell (Published in 1949)\n"
          ]
        }
      ]
    },
    {
      "cell_type": "code",
      "source": [
        "#18. Create a class House with attributes address and price. Create a derived class Mansion that adds an attribute number_of_rooms.\n",
        "\n",
        "\n",
        "class House:\n",
        "    def __init__(self, address, price):\n",
        "        self.address = address\n",
        "        self.price = price\n",
        "\n",
        "\n",
        "\n",
        "class Mansion(House):\n",
        "    def __init__(self, address, price, number_of_rooms):\n",
        "        super().__init__(address, price)\n",
        "        self.number_of_rooms = number_of_rooms\n",
        "\n",
        "    def get_details(self):\n",
        "        return (f\"Mansion located at {self.address}, priced at ₹{self.price}, \"\n",
        "                f\"with {self.number_of_rooms} rooms.\")\n",
        "\n",
        "\n",
        "m1 = Mansion(\"Beverly Hills, LA\", 50000000, 10)\n",
        "print(m1.get_details())\n"
      ],
      "metadata": {
        "colab": {
          "base_uri": "https://localhost:8080/"
        },
        "id": "M0UxApQsUd89",
        "outputId": "78c818ed-32b0-4de8-fcbf-60b7a6b1df4e"
      },
      "execution_count": 14,
      "outputs": [
        {
          "output_type": "stream",
          "name": "stdout",
          "text": [
            "Mansion located at Beverly Hills, LA, priced at ₹50000000, with 10 rooms.\n"
          ]
        }
      ]
    },
    {
      "cell_type": "code",
      "source": [],
      "metadata": {
        "id": "WXuITo7-Uv2M"
      },
      "execution_count": null,
      "outputs": []
    }
  ]
}